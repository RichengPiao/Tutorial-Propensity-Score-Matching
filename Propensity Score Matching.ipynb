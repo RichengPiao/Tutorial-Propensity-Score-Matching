{
 "cells": [
  {
   "cell_type": "code",
   "execution_count": 16,
   "metadata": {},
   "outputs": [],
   "source": [
    "# Import Libraies\n",
    "import pandas as pd\n",
    "import statsmodels.api as sm\n",
    "from causalinference import CausalModel"
   ]
  },
  {
   "cell_type": "code",
   "execution_count": 17,
   "metadata": {},
   "outputs": [],
   "source": [
    "#get the wage data set from R\n",
    "dataset = sm.datasets.get_rdataset(\"Wages\",package = \"plm\")\n",
    "dataset = dataset.data"
   ]
  },
  {
   "cell_type": "code",
   "execution_count": 18,
   "metadata": {},
   "outputs": [
    {
     "name": "stdout",
     "output_type": "stream",
     "text": [
      "   exp  wks bluecol  ind south smsa married   sex union  ed black    lwage\n",
      "0    3   32      no    0   yes   no     yes  male    no   9    no  5.56068\n",
      "1    4   43      no    0   yes   no     yes  male    no   9    no  5.72031\n",
      "2    5   40      no    0   yes   no     yes  male    no   9    no  5.99645\n",
      "3    6   39      no    0   yes   no     yes  male    no   9    no  5.99645\n",
      "4    7   42      no    1   yes   no     yes  male    no   9    no  6.06146\n",
      "               exp          wks          ind           ed        lwage\n",
      "count  4165.000000  4165.000000  4165.000000  4165.000000  4165.000000\n",
      "mean     19.853782    46.811525     0.395438    12.845378     6.676346\n",
      "std      10.966370     5.129098     0.489003     2.787995     0.461512\n",
      "min       1.000000     5.000000     0.000000     4.000000     4.605170\n",
      "25%      11.000000    46.000000     0.000000    12.000000     6.395260\n",
      "50%      18.000000    48.000000     0.000000    12.000000     6.684610\n",
      "75%      29.000000    50.000000     1.000000    16.000000     6.952730\n",
      "max      51.000000    52.000000     1.000000    17.000000     8.537000\n"
     ]
    }
   ],
   "source": [
    "print(dataset.head())\n",
    "print(dataset.describe())"
   ]
  },
  {
   "cell_type": "code",
   "execution_count": 19,
   "metadata": {},
   "outputs": [],
   "source": [
    "# Transform categorical into dummy cairables\n",
    "dataset = pd.get_dummies(data=dataset,drop_first= True)"
   ]
  },
  {
   "cell_type": "code",
   "execution_count": 20,
   "metadata": {},
   "outputs": [
    {
     "name": "stdout",
     "output_type": "stream",
     "text": [
      "   exp  wks  ind  ed    lwage  bluecol_yes  south_yes  smsa_yes  married_yes  \\\n",
      "0    3   32    0   9  5.56068            0          1         0            1   \n",
      "1    4   43    0   9  5.72031            0          1         0            1   \n",
      "2    5   40    0   9  5.99645            0          1         0            1   \n",
      "3    6   39    0   9  5.99645            0          1         0            1   \n",
      "4    7   42    1   9  6.06146            0          1         0            1   \n",
      "\n",
      "   sex_male  union_yes  black_yes  \n",
      "0         1          0          0  \n",
      "1         1          0          0  \n",
      "2         1          0          0  \n",
      "3         1          0          0  \n",
      "4         1          0          0  \n"
     ]
    }
   ],
   "source": [
    "print(dataset.head())"
   ]
  },
  {
   "cell_type": "code",
   "execution_count": 21,
   "metadata": {},
   "outputs": [],
   "source": [
    "#Isolate the Y, x, confounders\n",
    "Y = dataset.loc[:,\"lwage\"].values\n",
    "X = dataset.loc[:,\"sex_male\"].values\n",
    "confounders = dataset.drop(columns=['sex_male','lwage']).values"
   ]
  },
  {
   "cell_type": "code",
   "execution_count": 26,
   "metadata": {},
   "outputs": [],
   "source": [
    "# Propensity score matching\n",
    "model = CausalModel(Y, X, confounders)\n",
    "model.est_via_matching(bias_adj=True)"
   ]
  },
  {
   "cell_type": "code",
   "execution_count": 27,
   "metadata": {},
   "outputs": [
    {
     "name": "stdout",
     "output_type": "stream",
     "text": [
      "\n",
      "Treatment Effect Estimates: Matching\n",
      "\n",
      "                     Est.       S.e.          z      P>|z|      [95% Conf. int.]\n",
      "--------------------------------------------------------------------------------\n",
      "           ATE      0.276      0.065      4.215      0.000      0.148      0.404\n",
      "           ATC      0.421      0.062      6.789      0.000      0.299      0.542\n",
      "           ATT      0.258      0.072      3.566      0.000      0.116      0.399\n",
      "\n"
     ]
    }
   ],
   "source": [
    "print(model.estimates)"
   ]
  },
  {
   "cell_type": "code",
   "execution_count": 28,
   "metadata": {},
   "outputs": [],
   "source": [
    "# Male receive 26% more wage than female with similar background."
   ]
  },
  {
   "cell_type": "code",
   "execution_count": null,
   "metadata": {},
   "outputs": [],
   "source": []
  }
 ],
 "metadata": {
  "interpreter": {
   "hash": "607f3383a401117d4368d2a3f9ae06e441e7aaeb9e62d8b19b580cf246dd6567"
  },
  "kernelspec": {
   "display_name": "Python 3.7.3 64-bit",
   "language": "python",
   "name": "python3"
  },
  "language_info": {
   "codemirror_mode": {
    "name": "ipython",
    "version": 3
   },
   "file_extension": ".py",
   "mimetype": "text/x-python",
   "name": "python",
   "nbconvert_exporter": "python",
   "pygments_lexer": "ipython3",
   "version": "3.7.3"
  },
  "orig_nbformat": 4
 },
 "nbformat": 4,
 "nbformat_minor": 2
}
